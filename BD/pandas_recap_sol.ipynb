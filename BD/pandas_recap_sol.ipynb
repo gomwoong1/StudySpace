{
 "cells": [
  {
   "attachments": {},
   "cell_type": "markdown",
   "metadata": {},
   "source": [
    "# Pandas Recap Solution"
   ]
  },
  {
   "attachments": {},
   "cell_type": "markdown",
   "metadata": {
    "jp-MarkdownHeadingCollapsed": true,
    "tags": []
   },
   "source": [
    "# 1. Pandas DataFrame Basics\n",
    "***"
   ]
  },
  {
   "attachments": {},
   "cell_type": "markdown",
   "metadata": {
    "tags": []
   },
   "source": [
    "## 1.1 데이터 집합 불러오기"
   ]
  },
  {
   "cell_type": "code",
   "execution_count": 2,
   "metadata": {},
   "outputs": [],
   "source": [
    "import pandas as pd\n",
    "df = pd.read_csv(r'C:\\Users\\gomwo\\Desktop\\git\\python_practice\\BD\\gapminder.tsv', sep='\\t')"
   ]
  },
  {
   "cell_type": "code",
   "execution_count": 4,
   "metadata": {},
   "outputs": [
    {
     "data": {
      "text/html": [
       "<div>\n",
       "<style scoped>\n",
       "    .dataframe tbody tr th:only-of-type {\n",
       "        vertical-align: middle;\n",
       "    }\n",
       "\n",
       "    .dataframe tbody tr th {\n",
       "        vertical-align: top;\n",
       "    }\n",
       "\n",
       "    .dataframe thead th {\n",
       "        text-align: right;\n",
       "    }\n",
       "</style>\n",
       "<table border=\"1\" class=\"dataframe\">\n",
       "  <thead>\n",
       "    <tr style=\"text-align: right;\">\n",
       "      <th></th>\n",
       "      <th>country</th>\n",
       "      <th>continent</th>\n",
       "      <th>year</th>\n",
       "      <th>lifeExp</th>\n",
       "      <th>pop</th>\n",
       "      <th>gdpPercap</th>\n",
       "    </tr>\n",
       "  </thead>\n",
       "  <tbody>\n",
       "    <tr>\n",
       "      <th>0</th>\n",
       "      <td>Afghanistan</td>\n",
       "      <td>Asia</td>\n",
       "      <td>1952</td>\n",
       "      <td>28.801</td>\n",
       "      <td>8425333</td>\n",
       "      <td>779.445314</td>\n",
       "    </tr>\n",
       "    <tr>\n",
       "      <th>1</th>\n",
       "      <td>Afghanistan</td>\n",
       "      <td>Asia</td>\n",
       "      <td>1957</td>\n",
       "      <td>30.332</td>\n",
       "      <td>9240934</td>\n",
       "      <td>820.853030</td>\n",
       "    </tr>\n",
       "    <tr>\n",
       "      <th>2</th>\n",
       "      <td>Afghanistan</td>\n",
       "      <td>Asia</td>\n",
       "      <td>1962</td>\n",
       "      <td>31.997</td>\n",
       "      <td>10267083</td>\n",
       "      <td>853.100710</td>\n",
       "    </tr>\n",
       "    <tr>\n",
       "      <th>3</th>\n",
       "      <td>Afghanistan</td>\n",
       "      <td>Asia</td>\n",
       "      <td>1967</td>\n",
       "      <td>34.020</td>\n",
       "      <td>11537966</td>\n",
       "      <td>836.197138</td>\n",
       "    </tr>\n",
       "    <tr>\n",
       "      <th>4</th>\n",
       "      <td>Afghanistan</td>\n",
       "      <td>Asia</td>\n",
       "      <td>1972</td>\n",
       "      <td>36.088</td>\n",
       "      <td>13079460</td>\n",
       "      <td>739.981106</td>\n",
       "    </tr>\n",
       "  </tbody>\n",
       "</table>\n",
       "</div>"
      ],
      "text/plain": [
       "       country continent  year  lifeExp       pop   gdpPercap\n",
       "0  Afghanistan      Asia  1952   28.801   8425333  779.445314\n",
       "1  Afghanistan      Asia  1957   30.332   9240934  820.853030\n",
       "2  Afghanistan      Asia  1962   31.997  10267083  853.100710\n",
       "3  Afghanistan      Asia  1967   34.020  11537966  836.197138\n",
       "4  Afghanistan      Asia  1972   36.088  13079460  739.981106"
      ]
     },
     "execution_count": 4,
     "metadata": {},
     "output_type": "execute_result"
    }
   ],
   "source": [
    "df.head()"
   ]
  },
  {
   "attachments": {},
   "cell_type": "markdown",
   "metadata": {
    "tags": []
   },
   "source": [
    "## 1.2 열단위 데이터 추출"
   ]
  },
  {
   "attachments": {},
   "cell_type": "markdown",
   "metadata": {
    "jp-MarkdownHeadingCollapsed": true,
    "tags": []
   },
   "source": [
    "### df에서 'country'열을 추출하여 country_sr 변수에 저장하기. (country_sr의 타입은 Series 가 되어야 한다)"
   ]
  },
  {
   "cell_type": "code",
   "execution_count": 5,
   "metadata": {},
   "outputs": [],
   "source": [
    "country_sr = df['country']"
   ]
  },
  {
   "cell_type": "code",
   "execution_count": 6,
   "metadata": {},
   "outputs": [
    {
     "name": "stdout",
     "output_type": "stream",
     "text": [
      "<class 'pandas.core.series.Series'>\n",
      "0    Afghanistan\n",
      "1    Afghanistan\n",
      "2    Afghanistan\n",
      "3    Afghanistan\n",
      "4    Afghanistan\n",
      "Name: country, dtype: object\n"
     ]
    }
   ],
   "source": [
    "print(type(country_sr))\n",
    "print(country_sr.head())"
   ]
  },
  {
   "attachments": {},
   "cell_type": "markdown",
   "metadata": {
    "jp-MarkdownHeadingCollapsed": true,
    "tags": []
   },
   "source": [
    "### 'year'열과 'pop'열을 동시에 추출하여 year_pop_df 변수에 저장하기. (year_pop_df의 타입은 DataFrame이 되어야 한다)"
   ]
  },
  {
   "cell_type": "code",
   "execution_count": 7,
   "metadata": {
    "tags": []
   },
   "outputs": [],
   "source": [
    "year_pop_df = df[['year', 'pop']]"
   ]
  },
  {
   "cell_type": "code",
   "execution_count": 8,
   "metadata": {},
   "outputs": [
    {
     "name": "stdout",
     "output_type": "stream",
     "text": [
      "<class 'pandas.core.frame.DataFrame'>\n",
      "   year       pop\n",
      "0  1952   8425333\n",
      "1  1957   9240934\n",
      "2  1962  10267083\n",
      "3  1967  11537966\n",
      "4  1972  13079460\n"
     ]
    }
   ],
   "source": [
    "print(type(year_pop_df))\n",
    "print(year_pop_df.head())"
   ]
  },
  {
   "attachments": {},
   "cell_type": "markdown",
   "metadata": {
    "jp-MarkdownHeadingCollapsed": true,
    "tags": []
   },
   "source": [
    "### 'year'열을 추출하여 year_df 변수에 저장하기. (year_df의 타입은 DataFrame이 되어야 한다)"
   ]
  },
  {
   "cell_type": "code",
   "execution_count": 9,
   "metadata": {},
   "outputs": [],
   "source": [
    "year_df = df[['year']]"
   ]
  },
  {
   "cell_type": "code",
   "execution_count": 10,
   "metadata": {},
   "outputs": [
    {
     "name": "stdout",
     "output_type": "stream",
     "text": [
      "<class 'pandas.core.frame.DataFrame'>\n",
      "   year\n",
      "0  1952\n",
      "1  1957\n",
      "2  1962\n",
      "3  1967\n",
      "4  1972\n"
     ]
    }
   ],
   "source": [
    "print(type(year_df))\n",
    "print(year_df.head())"
   ]
  },
  {
   "attachments": {},
   "cell_type": "markdown",
   "metadata": {
    "tags": []
   },
   "source": [
    "## 1.3 행단위 데이터 추출"
   ]
  },
  {
   "attachments": {},
   "cell_type": "markdown",
   "metadata": {
    "jp-MarkdownHeadingCollapsed": true,
    "tags": []
   },
   "source": [
    "### df에서 2번째 행 데이터 추출하기 (loc 속성 이용)"
   ]
  },
  {
   "cell_type": "code",
   "execution_count": 16,
   "metadata": {
    "tags": []
   },
   "outputs": [
    {
     "name": "stdout",
     "output_type": "stream",
     "text": [
      "country      Afghanistan\n",
      "continent           Asia\n",
      "year                1957\n",
      "lifeExp           30.332\n",
      "pop              9240934\n",
      "gdpPercap      820.85303\n",
      "Name: 1, dtype: object\n"
     ]
    }
   ],
   "source": [
    "print(df.loc[1])"
   ]
  },
  {
   "attachments": {},
   "cell_type": "markdown",
   "metadata": {
    "jp-MarkdownHeadingCollapsed": true,
    "tags": []
   },
   "source": [
    "### df에서 2번째 행 데이터 추출하기 (iloc 속성 이용)"
   ]
  },
  {
   "cell_type": "code",
   "execution_count": 15,
   "metadata": {},
   "outputs": [
    {
     "name": "stdout",
     "output_type": "stream",
     "text": [
      "country      Afghanistan\n",
      "continent           Asia\n",
      "year                1957\n",
      "lifeExp           30.332\n",
      "pop              9240934\n",
      "gdpPercap      820.85303\n",
      "Name: 1, dtype: object\n"
     ]
    }
   ],
   "source": [
    "print(df.iloc[1])"
   ]
  },
  {
   "attachments": {},
   "cell_type": "markdown",
   "metadata": {
    "jp-MarkdownHeadingCollapsed": true,
    "tags": []
   },
   "source": [
    "### df에서 마지막 행 데이터 추출하기 (loc 속성 이용)"
   ]
  },
  {
   "cell_type": "code",
   "execution_count": 17,
   "metadata": {},
   "outputs": [
    {
     "name": "stdout",
     "output_type": "stream",
     "text": [
      "country        Zimbabwe\n",
      "continent        Africa\n",
      "year               2007\n",
      "lifeExp          43.487\n",
      "pop            12311143\n",
      "gdpPercap    469.709298\n",
      "Name: 1703, dtype: object\n"
     ]
    }
   ],
   "source": [
    "number_of_rows = df.shape[0]\n",
    "last_row_index = number_of_rows - 1\n",
    "print(df.loc[last_row_index])"
   ]
  },
  {
   "attachments": {},
   "cell_type": "markdown",
   "metadata": {
    "jp-MarkdownHeadingCollapsed": true,
    "tags": []
   },
   "source": [
    "### df에서 마지막 행 데이터 추출하기 (iloc 속성 이용)"
   ]
  },
  {
   "cell_type": "code",
   "execution_count": 18,
   "metadata": {},
   "outputs": [
    {
     "name": "stdout",
     "output_type": "stream",
     "text": [
      "country        Zimbabwe\n",
      "continent        Africa\n",
      "year               2007\n",
      "lifeExp          43.487\n",
      "pop            12311143\n",
      "gdpPercap    469.709298\n",
      "Name: 1703, dtype: object\n"
     ]
    }
   ],
   "source": [
    "print(df.iloc[-1])"
   ]
  },
  {
   "attachments": {},
   "cell_type": "markdown",
   "metadata": {
    "tags": []
   },
   "source": [
    "## 1.4 loc, iloc 속성 자유자재로 사용하기 - [ [ 행 ], [ 열 ] ]"
   ]
  },
  {
   "attachments": {},
   "cell_type": "markdown",
   "metadata": {
    "jp-MarkdownHeadingCollapsed": true,
    "tags": []
   },
   "source": [
    "### 'country', 'year', 'gdpPercap' 열에 대해 모든 행 데이터 추출하기(loc 사용)"
   ]
  },
  {
   "cell_type": "code",
   "execution_count": 19,
   "metadata": {},
   "outputs": [
    {
     "name": "stdout",
     "output_type": "stream",
     "text": [
      "          country  year   gdpPercap\n",
      "0     Afghanistan  1952  779.445314\n",
      "1     Afghanistan  1957  820.853030\n",
      "2     Afghanistan  1962  853.100710\n",
      "3     Afghanistan  1967  836.197138\n",
      "4     Afghanistan  1972  739.981106\n",
      "...           ...   ...         ...\n",
      "1699     Zimbabwe  1987  706.157306\n",
      "1700     Zimbabwe  1992  693.420786\n",
      "1701     Zimbabwe  1997  792.449960\n",
      "1702     Zimbabwe  2002  672.038623\n",
      "1703     Zimbabwe  2007  469.709298\n",
      "\n",
      "[1704 rows x 3 columns]\n"
     ]
    }
   ],
   "source": [
    "print(df.loc[:, ['country', 'year', 'gdpPercap']])"
   ]
  },
  {
   "attachments": {},
   "cell_type": "markdown",
   "metadata": {
    "jp-MarkdownHeadingCollapsed": true,
    "tags": []
   },
   "source": [
    "### 'country', 'year', 'gdpPercap' 열에 대해 처음부터 100개 행 데이터 추출하기(loc 사용)"
   ]
  },
  {
   "cell_type": "code",
   "execution_count": 21,
   "metadata": {
    "tags": []
   },
   "outputs": [
    {
     "name": "stdout",
     "output_type": "stream",
     "text": [
      "        country  year     gdpPercap\n",
      "0   Afghanistan  1952    779.445314\n",
      "1   Afghanistan  1957    820.853030\n",
      "2   Afghanistan  1962    853.100710\n",
      "3   Afghanistan  1967    836.197138\n",
      "4   Afghanistan  1972    739.981106\n",
      "..          ...   ...           ...\n",
      "95      Bahrain  2007  29796.048340\n",
      "96   Bangladesh  1952    684.244172\n",
      "97   Bangladesh  1957    661.637458\n",
      "98   Bangladesh  1962    686.341554\n",
      "99   Bangladesh  1967    721.186086\n",
      "\n",
      "[100 rows x 3 columns]\n"
     ]
    }
   ],
   "source": [
    "print(df.loc[:99, ['country', 'year', 'gdpPercap']])"
   ]
  },
  {
   "attachments": {},
   "cell_type": "markdown",
   "metadata": {
    "jp-MarkdownHeadingCollapsed": true,
    "tags": []
   },
   "source": [
    "### 'country', 'year', 'gdpPercap' 열에 대해 처음부터 100개 행 데이터 추출하기(iloc 사용)"
   ]
  },
  {
   "cell_type": "code",
   "execution_count": 20,
   "metadata": {},
   "outputs": [
    {
     "name": "stdout",
     "output_type": "stream",
     "text": [
      "        country  year     gdpPercap\n",
      "0   Afghanistan  1952    779.445314\n",
      "1   Afghanistan  1957    820.853030\n",
      "2   Afghanistan  1962    853.100710\n",
      "3   Afghanistan  1967    836.197138\n",
      "4   Afghanistan  1972    739.981106\n",
      "..          ...   ...           ...\n",
      "95      Bahrain  2007  29796.048340\n",
      "96   Bangladesh  1952    684.244172\n",
      "97   Bangladesh  1957    661.637458\n",
      "98   Bangladesh  1962    686.341554\n",
      "99   Bangladesh  1967    721.186086\n",
      "\n",
      "[100 rows x 3 columns]\n"
     ]
    }
   ],
   "source": [
    "print(df.iloc[:100, [0, 2, -1]])"
   ]
  },
  {
   "attachments": {},
   "cell_type": "markdown",
   "metadata": {
    "jp-MarkdownHeadingCollapsed": true,
    "tags": []
   },
   "source": [
    "# 2. Pandas Data Structures\n",
    "***"
   ]
  },
  {
   "attachments": {},
   "cell_type": "markdown",
   "metadata": {
    "tags": []
   },
   "source": [
    "## 2.1 데이터 만들기"
   ]
  },
  {
   "cell_type": "code",
   "execution_count": 22,
   "metadata": {},
   "outputs": [],
   "source": [
    "import pandas as pd"
   ]
  },
  {
   "cell_type": "code",
   "execution_count": 28,
   "metadata": {},
   "outputs": [],
   "source": [
    "scientists = pd.DataFrame(\n",
    "    data={'Occupation': ['Chemist', 'Statistician'], \n",
    "          'Born': ['1920-07-25', '1876-06-13'], \n",
    "          'Died': ['1958-04-16', '1937-10-16'],\n",
    "          'Age': [37, 61]},\n",
    "    index=['Rosaline Franklin', 'William Gosset'],\n",
    "    columns=['Occupation', 'Born', 'Died', 'Age']) "
   ]
  },
  {
   "attachments": {},
   "cell_type": "markdown",
   "metadata": {
    "tags": []
   },
   "source": [
    "## 2.2 데이터 추출"
   ]
  },
  {
   "attachments": {},
   "cell_type": "markdown",
   "metadata": {},
   "source": [
    "### 'William Gosset' 행 데이터 추출하기 (loc 사용)"
   ]
  },
  {
   "cell_type": "code",
   "execution_count": 29,
   "metadata": {},
   "outputs": [
    {
     "name": "stdout",
     "output_type": "stream",
     "text": [
      "Occupation    Statistician\n",
      "Born            1876-06-13\n",
      "Died            1937-10-16\n",
      "Age                     61\n",
      "Name: William Gosset, dtype: object\n"
     ]
    }
   ],
   "source": [
    "print(scientists.loc['William Gosset'])"
   ]
  },
  {
   "attachments": {},
   "cell_type": "markdown",
   "metadata": {},
   "source": [
    "### 'William Gosset' 행 데이터 추출하기 (iloc 사용)"
   ]
  },
  {
   "cell_type": "code",
   "execution_count": 25,
   "metadata": {},
   "outputs": [
    {
     "name": "stdout",
     "output_type": "stream",
     "text": [
      "Occupation    Statistician\n",
      "Born            1876-06-13\n",
      "Died            1937-10-16\n",
      "Age                     61\n",
      "Name: William Gosset, dtype: object\n"
     ]
    }
   ],
   "source": [
    "print(scientists.iloc[1])"
   ]
  },
  {
   "attachments": {},
   "cell_type": "markdown",
   "metadata": {},
   "source": [
    "### 'William Gosset'의 Occupation 추출 (loc 사용)"
   ]
  },
  {
   "cell_type": "code",
   "execution_count": 30,
   "metadata": {},
   "outputs": [
    {
     "name": "stdout",
     "output_type": "stream",
     "text": [
      "Statistician\n"
     ]
    }
   ],
   "source": [
    "print(scientists.loc['William Gosset', 'Occupation'])"
   ]
  },
  {
   "attachments": {},
   "cell_type": "markdown",
   "metadata": {},
   "source": [
    "### 'Rosaline Franklin'의 Occupation을 Programmer 로 변경(iloc 사용)"
   ]
  },
  {
   "cell_type": "code",
   "execution_count": 31,
   "metadata": {},
   "outputs": [
    {
     "name": "stdout",
     "output_type": "stream",
     "text": [
      "                     Occupation        Born        Died  Age\n",
      "Rosaline Franklin    Programmer  1920-07-25  1958-04-16   37\n",
      "William Gosset     Statistician  1876-06-13  1937-10-16   61\n"
     ]
    }
   ],
   "source": [
    "scientists.iloc[0, 0] = 'Programmer'\n",
    "print(scientists)"
   ]
  },
  {
   "attachments": {},
   "cell_type": "markdown",
   "metadata": {
    "tags": []
   },
   "source": [
    "## 2.3 index, columns, values 속성 사용하기"
   ]
  },
  {
   "attachments": {},
   "cell_type": "markdown",
   "metadata": {
    "tags": []
   },
   "source": [
    "### scientists의 index 가져오기"
   ]
  },
  {
   "cell_type": "code",
   "execution_count": 32,
   "metadata": {
    "scrolled": true
   },
   "outputs": [
    {
     "name": "stdout",
     "output_type": "stream",
     "text": [
      "Index(['Rosaline Franklin', 'William Gosset'], dtype='object')\n"
     ]
    }
   ],
   "source": [
    "print(scientists.index)"
   ]
  },
  {
   "attachments": {},
   "cell_type": "markdown",
   "metadata": {
    "tags": []
   },
   "source": [
    "### scientists의 columns 가져오기"
   ]
  },
  {
   "cell_type": "code",
   "execution_count": 33,
   "metadata": {
    "scrolled": true
   },
   "outputs": [
    {
     "name": "stdout",
     "output_type": "stream",
     "text": [
      "Index(['Occupation', 'Born', 'Died', 'Age'], dtype='object')\n"
     ]
    }
   ],
   "source": [
    "print(scientists.columns)"
   ]
  },
  {
   "attachments": {},
   "cell_type": "markdown",
   "metadata": {},
   "source": [
    "### scientists의 모든 values 가져오기"
   ]
  },
  {
   "cell_type": "code",
   "execution_count": 34,
   "metadata": {},
   "outputs": [
    {
     "name": "stdout",
     "output_type": "stream",
     "text": [
      "[['Programmer' '1920-07-25' '1958-04-16' 37]\n",
      " ['Statistician' '1876-06-13' '1937-10-16' 61]]\n"
     ]
    }
   ],
   "source": [
    "print(scientists.values)"
   ]
  },
  {
   "attachments": {},
   "cell_type": "markdown",
   "metadata": {
    "tags": []
   },
   "source": [
    "## 2.4 시리즈의 기초 통계 메서드 사용하기"
   ]
  },
  {
   "attachments": {},
   "cell_type": "markdown",
   "metadata": {},
   "source": [
    "### 시리즈 메서드 정리\n",
    "\n",
    "| 시리즈 메서드    | 설명 |\n",
    "| ----------------| --- |\n",
    "| append          | 2개 이상의 시리즈 연결 |\n",
    "| describe        | 요약 통계량 계산 |\n",
    "| drop_duplicates | 중복값이 없는 시리즈 반환 |\n",
    "| equals          | 시리즈에 해당 값을 가진 요소가 있는지 확인 |\n",
    "| get_values      | 시리즈 값 구하기 (values 속성과 동일) |\n",
    "| isin            | 시리즈에 포함된 값이 있는지 확인 |\n",
    "| min             | 최솟값 반환 |\n",
    "| max             | 최댓값 반환 |\n",
    "| mean            | 산술 평균 반환 |\n",
    "| median          | 중간값 반환 |\n",
    "| replace         | 특정 값을 가진 시리즈 값을 교체 |\n",
    "| sample          | 시리즈에서 임의의 값을 반환 |\n",
    "| sort_values     | 값을 정렬 |\n",
    "| to_frame        | 시리즈를 데이터프레임으로 변환 |"
   ]
  },
  {
   "attachments": {},
   "cell_type": "markdown",
   "metadata": {},
   "source": [
    "### scientists 에서 평균 나이 ('Age'열) 구하기"
   ]
  },
  {
   "cell_type": "code",
   "execution_count": 35,
   "metadata": {},
   "outputs": [
    {
     "name": "stdout",
     "output_type": "stream",
     "text": [
      "49.0\n"
     ]
    }
   ],
   "source": [
    "print(scientists['Age'].mean())"
   ]
  },
  {
   "attachments": {},
   "cell_type": "markdown",
   "metadata": {},
   "source": [
    "### scientists 에서 최대 나이 ('Age'열) 구하기"
   ]
  },
  {
   "cell_type": "code",
   "execution_count": 36,
   "metadata": {},
   "outputs": [
    {
     "name": "stdout",
     "output_type": "stream",
     "text": [
      "61\n"
     ]
    }
   ],
   "source": [
    "print(scientists['Age'].max())"
   ]
  },
  {
   "attachments": {},
   "cell_type": "markdown",
   "metadata": {},
   "source": [
    "### scientists 에서 최소 나이 ('Age'열) 구하기"
   ]
  },
  {
   "cell_type": "code",
   "execution_count": 37,
   "metadata": {},
   "outputs": [
    {
     "name": "stdout",
     "output_type": "stream",
     "text": [
      "37\n"
     ]
    }
   ],
   "source": [
    "print(scientists['Age'].min())"
   ]
  },
  {
   "attachments": {},
   "cell_type": "markdown",
   "metadata": {},
   "source": [
    "### scientists 에서 나이('Age'열)에 대한 표준편차 구하기"
   ]
  },
  {
   "cell_type": "code",
   "execution_count": 38,
   "metadata": {},
   "outputs": [
    {
     "name": "stdout",
     "output_type": "stream",
     "text": [
      "16.97056274847714\n"
     ]
    }
   ],
   "source": [
    "print(scientists['Age'].std())"
   ]
  },
  {
   "attachments": {},
   "cell_type": "markdown",
   "metadata": {
    "tags": []
   },
   "source": [
    "## 2.5 시리즈 다루기 - 응용"
   ]
  },
  {
   "cell_type": "code",
   "execution_count": 40,
   "metadata": {},
   "outputs": [
    {
     "name": "stdout",
     "output_type": "stream",
     "text": [
      "                   Name        Born        Died  Age          Occupation\n",
      "0     Rosaline Franklin  1920-07-25  1958-04-16   37             Chemist\n",
      "1        William Gosset  1876-06-13  1937-10-16   61        Statistician\n",
      "2  Florence Nightingale  1820-05-12  1910-08-13   90               Nurse\n",
      "3           Marie Curie  1867-11-07  1934-07-04   66             Chemist\n",
      "4         Rachel Carson  1907-05-27  1964-04-14   56           Biologist\n",
      "5             John Snow  1813-03-15  1858-06-16   45           Physician\n",
      "6           Alan Turing  1912-06-23  1954-06-07   41  Computer Scientist\n",
      "7          Johann Gauss  1777-04-30  1855-02-23   77       Mathematician\n"
     ]
    }
   ],
   "source": [
    "scientists = pd.read_csv(r'C:\\Users\\gomwo\\Desktop\\git\\python_practice\\BD\\scientists.csv')\n",
    "print(scientists)"
   ]
  },
  {
   "attachments": {},
   "cell_type": "markdown",
   "metadata": {},
   "source": [
    "### 수명(Age)이 평균수명 보다 적은 과학자들의 수명 데이터(시리즈) 추출하기"
   ]
  },
  {
   "cell_type": "code",
   "execution_count": 41,
   "metadata": {},
   "outputs": [
    {
     "name": "stdout",
     "output_type": "stream",
     "text": [
      "0    37\n",
      "4    56\n",
      "5    45\n",
      "6    41\n",
      "Name: Age, dtype: int64\n"
     ]
    }
   ],
   "source": [
    "ages = scientists['Age'] \n",
    "\n",
    "print(ages[ages < ages.mean()])"
   ]
  },
  {
   "attachments": {},
   "cell_type": "markdown",
   "metadata": {},
   "source": [
    "### 수명(Age)이 평균수명 보다 큰 과학자들의 이름(Name) 데이터(시리즈) 추출하기"
   ]
  },
  {
   "cell_type": "code",
   "execution_count": 42,
   "metadata": {},
   "outputs": [
    {
     "name": "stdout",
     "output_type": "stream",
     "text": [
      "1          William Gosset\n",
      "2    Florence Nightingale\n",
      "3             Marie Curie\n",
      "7            Johann Gauss\n",
      "Name: Name, dtype: object\n"
     ]
    }
   ],
   "source": [
    "ages = scientists['Age']\n",
    "names = scientists['Name'] \n",
    "\n",
    "print(names[ages > ages.mean()])"
   ]
  },
  {
   "attachments": {},
   "cell_type": "markdown",
   "metadata": {},
   "source": [
    "### 1800년대에 태어난 과학자들의 이름(Name) 데이터(시리즈) 추출하기 (& 연산자 사용)"
   ]
  },
  {
   "cell_type": "code",
   "execution_count": 45,
   "metadata": {},
   "outputs": [
    {
     "name": "stdout",
     "output_type": "stream",
     "text": [
      "1          William Gosset\n",
      "2    Florence Nightingale\n",
      "3             Marie Curie\n",
      "5               John Snow\n",
      "Name: Name, dtype: object\n"
     ]
    }
   ],
   "source": [
    "names = scientists['Name'] \n",
    "borns = scientists['Born']\n",
    "\n",
    "print(names[(borns >= '1800-01-01') & (borns < '1900-01-01')])\n",
    "# print(names[(borns >= '18') & (borns < '19')])"
   ]
  },
  {
   "attachments": {},
   "cell_type": "markdown",
   "metadata": {},
   "source": [
    "### 직업(Occupation)이 Chemist 또는 Physician 인 과학자들의 이름(Name) 데이터(시리즈) 추출하기 (| 연산자 사용)"
   ]
  },
  {
   "cell_type": "code",
   "execution_count": 50,
   "metadata": {},
   "outputs": [
    {
     "name": "stdout",
     "output_type": "stream",
     "text": [
      "0    Rosaline Franklin\n",
      "3          Marie Curie\n",
      "5            John Snow\n",
      "Name: Name, dtype: object\n",
      "0    Rosaline Franklin\n",
      "3          Marie Curie\n",
      "5            John Snow\n",
      "Name: Name, dtype: object\n"
     ]
    }
   ],
   "source": [
    "names = scientists['Name'] \n",
    "occupations = scientists['Occupation']\n",
    "\n",
    "print(names[(occupations == 'Chemist') | (occupations == 'Physician')])"
   ]
  },
  {
   "attachments": {},
   "cell_type": "markdown",
   "metadata": {
    "tags": []
   },
   "source": [
    "### 수명 데이터에 10 더하기"
   ]
  },
  {
   "cell_type": "code",
   "execution_count": 52,
   "metadata": {},
   "outputs": [
    {
     "name": "stdout",
     "output_type": "stream",
     "text": [
      "0     47\n",
      "1     71\n",
      "2    100\n",
      "3     76\n",
      "4     66\n",
      "5     55\n",
      "6     51\n",
      "7     87\n",
      "Name: Age, dtype: int64\n"
     ]
    }
   ],
   "source": [
    "ages = scientists['Age']\n",
    "print (ages + 10)"
   ]
  },
  {
   "attachments": {},
   "cell_type": "markdown",
   "metadata": {
    "tags": []
   },
   "source": [
    "## 2.6 데이터프레임 다루기"
   ]
  },
  {
   "attachments": {},
   "cell_type": "markdown",
   "metadata": {
    "tags": []
   },
   "source": [
    "### 수명(Age)이 평균수명 보다 적은 과학자들의 전체 데이터(데이터프레임) 추출하기"
   ]
  },
  {
   "cell_type": "code",
   "execution_count": 53,
   "metadata": {},
   "outputs": [
    {
     "name": "stdout",
     "output_type": "stream",
     "text": [
      "                Name        Born        Died  Age          Occupation\n",
      "0  Rosaline Franklin  1920-07-25  1958-04-16   37             Chemist\n",
      "4      Rachel Carson  1907-05-27  1964-04-14   56           Biologist\n",
      "5          John Snow  1813-03-15  1858-06-16   45           Physician\n",
      "6        Alan Turing  1912-06-23  1954-06-07   41  Computer Scientist\n"
     ]
    }
   ],
   "source": [
    "ages = scientists['Age']\n",
    "\n",
    "print(scientists[ages < ages.mean()])"
   ]
  },
  {
   "attachments": {},
   "cell_type": "markdown",
   "metadata": {},
   "source": [
    "### 출생일(Born) 데이터의 타입을 datetime 으로 변환하여 새로운 열(Born_dt)로 추가하기 (to_datetime 사용)"
   ]
  },
  {
   "cell_type": "code",
   "execution_count": 60,
   "metadata": {},
   "outputs": [
    {
     "name": "stdout",
     "output_type": "stream",
     "text": [
      "                   Name        Born        Died  Age          Occupation   \n",
      "0     Rosaline Franklin  1920-07-25  1958-04-16   37             Chemist  \\\n",
      "1        William Gosset  1876-06-13  1937-10-16   61        Statistician   \n",
      "2  Florence Nightingale  1820-05-12  1910-08-13   90               Nurse   \n",
      "3           Marie Curie  1867-11-07  1934-07-04   66             Chemist   \n",
      "4         Rachel Carson  1907-05-27  1964-04-14   56           Biologist   \n",
      "5             John Snow  1813-03-15  1858-06-16   45           Physician   \n",
      "6           Alan Turing  1912-06-23  1954-06-07   41  Computer Scientist   \n",
      "7          Johann Gauss  1777-04-30  1855-02-23   77       Mathematician   \n",
      "\n",
      "     Born_dt  \n",
      "0 1920-07-25  \n",
      "1 1876-06-13  \n",
      "2 1820-05-12  \n",
      "3 1867-11-07  \n",
      "4 1907-05-27  \n",
      "5 1813-03-15  \n",
      "6 1912-06-23  \n",
      "7 1777-04-30  \n"
     ]
    }
   ],
   "source": [
    "scientists['Born_dt'] = pd.to_datetime(scientists['Born'], format='%Y-%m-%d')\n",
    "print(scientists)"
   ]
  },
  {
   "attachments": {},
   "cell_type": "markdown",
   "metadata": {},
   "source": [
    "### 출생일(Born_dt) 데이터를 사용하여 1850년 이후에 태어난 과학자의 전체데이터(데이터프레임) 추출하기"
   ]
  },
  {
   "cell_type": "code",
   "execution_count": 71,
   "metadata": {},
   "outputs": [
    {
     "name": "stdout",
     "output_type": "stream",
     "text": [
      "                Name        Born        Died  Age          Occupation   \n",
      "0  Rosaline Franklin  1920-07-25  1958-04-16   37             Chemist  \\\n",
      "1     William Gosset  1876-06-13  1937-10-16   61        Statistician   \n",
      "3        Marie Curie  1867-11-07  1934-07-04   66             Chemist   \n",
      "4      Rachel Carson  1907-05-27  1964-04-14   56           Biologist   \n",
      "6        Alan Turing  1912-06-23  1954-06-07   41  Computer Scientist   \n",
      "\n",
      "     Born_dt  \n",
      "0 1920-07-25  \n",
      "1 1876-06-13  \n",
      "3 1867-11-07  \n",
      "4 1907-05-27  \n",
      "6 1912-06-23  \n",
      "                Name        Born        Died  Age          Occupation   \n",
      "0  Rosaline Franklin  1920-07-25  1958-04-16   37             Chemist  \\\n",
      "1     William Gosset  1876-06-13  1937-10-16   61        Statistician   \n",
      "3        Marie Curie  1867-11-07  1934-07-04   66             Chemist   \n",
      "4      Rachel Carson  1907-05-27  1964-04-14   56           Biologist   \n",
      "6        Alan Turing  1912-06-23  1954-06-07   41  Computer Scientist   \n",
      "\n",
      "     Born_dt  \n",
      "0 1920-07-25  \n",
      "1 1876-06-13  \n",
      "3 1867-11-07  \n",
      "4 1907-05-27  \n",
      "6 1912-06-23  \n"
     ]
    }
   ],
   "source": [
    "print(scientists[scientists['Born_dt'] >= '1851-01-01'])\n",
    "print(scientists[scientists['Born_dt'].dt.year > 1850])"
   ]
  },
  {
   "attachments": {},
   "cell_type": "markdown",
   "metadata": {
    "tags": []
   },
   "source": [
    "### Born_dt 열 삭제하기 (drop 함수 사용)"
   ]
  },
  {
   "cell_type": "code",
   "execution_count": 72,
   "metadata": {},
   "outputs": [
    {
     "name": "stdout",
     "output_type": "stream",
     "text": [
      "                   Name        Born        Died  Age          Occupation\n",
      "0     Rosaline Franklin  1920-07-25  1958-04-16   37             Chemist\n",
      "1        William Gosset  1876-06-13  1937-10-16   61        Statistician\n",
      "2  Florence Nightingale  1820-05-12  1910-08-13   90               Nurse\n",
      "3           Marie Curie  1867-11-07  1934-07-04   66             Chemist\n",
      "4         Rachel Carson  1907-05-27  1964-04-14   56           Biologist\n",
      "5             John Snow  1813-03-15  1858-06-16   45           Physician\n",
      "6           Alan Turing  1912-06-23  1954-06-07   41  Computer Scientist\n",
      "7          Johann Gauss  1777-04-30  1855-02-23   77       Mathematician\n"
     ]
    }
   ],
   "source": [
    "scientists.drop('Born_dt', axis=1, inplace=True)\n",
    "print(scientists)"
   ]
  },
  {
   "attachments": {},
   "cell_type": "markdown",
   "metadata": {
    "jp-MarkdownHeadingCollapsed": true,
    "tags": []
   },
   "source": [
    "# 3. Data Assembly, Tidy Data, Data Types and Groupby\n",
    "***"
   ]
  },
  {
   "attachments": {},
   "cell_type": "markdown",
   "metadata": {
    "tags": []
   },
   "source": [
    "## 3.1 데이터 불러오기"
   ]
  },
  {
   "cell_type": "code",
   "execution_count": 73,
   "metadata": {},
   "outputs": [],
   "source": [
    "import pandas as pd"
   ]
  },
  {
   "cell_type": "code",
   "execution_count": 75,
   "metadata": {},
   "outputs": [],
   "source": [
    "scores_1_1 = pd.read_csv(r'C:\\Users\\gomwo\\Desktop\\git\\python_practice\\BD\\scores_1_1.csv', header=None)\n",
    "scores_1_2 = pd.read_csv(r'C:\\Users\\gomwo\\Desktop\\git\\python_practice\\BD\\scores_1_2.csv', header=None)\n",
    "scores_2_1 = pd.read_csv(r'C:\\Users\\gomwo\\Desktop\\git\\python_practice\\BD\\scores_2_1.csv', header=None)\n",
    "scores_2_2 = pd.read_csv(r'C:\\Users\\gomwo\\Desktop\\git\\python_practice\\BD\\scores_2_2.csv', header=None)"
   ]
  },
  {
   "attachments": {},
   "cell_type": "markdown",
   "metadata": {},
   "source": [
    "## 3.2 데이터 합치기"
   ]
  },
  {
   "attachments": {},
   "cell_type": "markdown",
   "metadata": {},
   "source": [
    "### scores_1_1 와 scores_1_2 를 열기준(axis=1) 으로 합쳐 scores_1 변수에 저장하기 (concat)"
   ]
  },
  {
   "cell_type": "code",
   "execution_count": 76,
   "metadata": {
    "tags": []
   },
   "outputs": [],
   "source": [
    "scores_1 = pd.concat([scores_1_1, scores_1_2], axis=1, ignore_index=True)"
   ]
  },
  {
   "attachments": {},
   "cell_type": "markdown",
   "metadata": {},
   "source": [
    "### scores_1 의 열이름을 1, 2, 3, ... 로 변경하기"
   ]
  },
  {
   "cell_type": "code",
   "execution_count": 77,
   "metadata": {},
   "outputs": [],
   "source": [
    "scores_1.columns = range(1, len(scores_1.columns) + 1)"
   ]
  },
  {
   "attachments": {},
   "cell_type": "markdown",
   "metadata": {
    "tags": []
   },
   "source": [
    "### scores_1 에서 누락 데이터를 0 으로 채우기 (fillna)"
   ]
  },
  {
   "cell_type": "code",
   "execution_count": 78,
   "metadata": {
    "tags": []
   },
   "outputs": [
    {
     "name": "stdout",
     "output_type": "stream",
     "text": [
      "    1   2   3    4    5   6   7   8    9   10  ...  16  17   18  19  20  21   \n",
      "0  0.0   0   0  0.0  1.0   0   0   1  0.0   0  ...   0   0  0.0   1   0   1  \\\n",
      "1  1.0   1   1  0.0  1.0   0   1   1  1.0   0  ...   0   0  0.0   1   1   0   \n",
      "2  0.0   0   1  1.0  1.0   1   0   1  0.0   0  ...   0   0  0.0   0   0   0   \n",
      "3  1.0   1   1  1.0  1.0   1   1   1  1.0   0  ...   1   1  1.0   1   1   0   \n",
      "4  1.0   1   1  0.0  1.0   0   0   1  1.0   0  ...   1   0  0.0   0   1   1   \n",
      "\n",
      "    22   23   24  25  \n",
      "0  1.0  1.0  0.0   1  \n",
      "1  1.0  1.0  0.0   1  \n",
      "2  0.0  0.0  0.0   1  \n",
      "3  1.0  1.0  1.0   1  \n",
      "4  1.0  1.0  1.0   1  \n",
      "\n",
      "[5 rows x 25 columns]\n"
     ]
    }
   ],
   "source": [
    "scores_1.fillna(0, inplace=True)\n",
    "print(scores_1.head())"
   ]
  },
  {
   "attachments": {},
   "cell_type": "markdown",
   "metadata": {},
   "source": [
    "### scores_1 모든 데이터타입을 int32 으로 변경하기 (astype)"
   ]
  },
  {
   "cell_type": "code",
   "execution_count": 79,
   "metadata": {},
   "outputs": [],
   "source": [
    "scores_1 = scores_1.astype('int32')"
   ]
  },
  {
   "attachments": {},
   "cell_type": "markdown",
   "metadata": {},
   "source": [
    "### scores_1 의 모든 데이터에 4를 곱한 값으로 재지정 하기 (브로드캐스팅)"
   ]
  },
  {
   "cell_type": "code",
   "execution_count": 80,
   "metadata": {
    "tags": []
   },
   "outputs": [
    {
     "name": "stdout",
     "output_type": "stream",
     "text": [
      "   1   2   3   4   5   6   7   8   9   10  ...  16  17  18  19  20  21  22   \n",
      "0   0   0   0   0   4   0   0   4   0   0  ...   0   0   0   4   0   4   4  \\\n",
      "1   4   4   4   0   4   0   4   4   4   0  ...   0   0   0   4   4   0   4   \n",
      "2   0   0   4   4   4   4   0   4   0   0  ...   0   0   0   0   0   0   0   \n",
      "3   4   4   4   4   4   4   4   4   4   0  ...   4   4   4   4   4   0   4   \n",
      "4   4   4   4   0   4   0   0   4   4   0  ...   4   0   0   0   4   4   4   \n",
      "\n",
      "   23  24  25  \n",
      "0   4   0   4  \n",
      "1   4   0   4  \n",
      "2   0   0   4  \n",
      "3   4   4   4  \n",
      "4   4   4   4  \n",
      "\n",
      "[5 rows x 25 columns]\n"
     ]
    }
   ],
   "source": [
    "scores_1 = scores_1 * 4\n",
    "print(scores_1.head())"
   ]
  },
  {
   "attachments": {},
   "cell_type": "markdown",
   "metadata": {
    "tags": []
   },
   "source": [
    "### scores_1 에 새로운 class 열 추가하기(class 데이터 값은 모두 '1반')"
   ]
  },
  {
   "cell_type": "code",
   "execution_count": 82,
   "metadata": {
    "tags": []
   },
   "outputs": [
    {
     "name": "stdout",
     "output_type": "stream",
     "text": [
      "    1  2  3  4  5  6  7  8  9  10  ...  17  18  19  20  21  22  23  24  25   \n",
      "0   0  0  0  0  4  0  0  4  0   0  ...   0   0   4   0   4   4   4   0   4  \\\n",
      "1   4  4  4  0  4  0  4  4  4   0  ...   0   0   4   4   0   4   4   0   4   \n",
      "2   0  0  4  4  4  4  0  4  0   0  ...   0   0   0   0   0   0   0   0   4   \n",
      "3   4  4  4  4  4  4  4  4  4   0  ...   4   4   4   4   0   4   4   4   4   \n",
      "4   4  4  4  0  4  0  0  4  4   0  ...   0   0   0   4   4   4   4   4   4   \n",
      "5   4  4  0  4  4  4  0  4  4   0  ...   0   4   4   4   4   4   4   4   4   \n",
      "6   4  4  0  4  0  4  4  4  4   0  ...   0   0   0   4   0   0   4   4   0   \n",
      "7   4  4  0  0  4  0  0  4  0   0  ...   0   0   4   4   0   4   4   4   4   \n",
      "8   4  0  4  4  4  0  0  4  4   0  ...   0   0   4   4   0   4   4   4   4   \n",
      "9   4  0  4  0  4  0  0  0  0   0  ...   0   4   0   0   4   4   4   0   4   \n",
      "10  4  0  0  0  4  0  0  4  0   0  ...   4   4   4   0   0   4   4   0   4   \n",
      "11  4  4  0  0  4  0  0  0  4   0  ...   0   0   0   0   0   4   4   0   4   \n",
      "12  4  4  0  0  0  0  0  4  0   0  ...   0   0   4   4   0   4   4   0   0   \n",
      "13  4  4  4  0  4  0  4  4  4   4  ...   4   0   0   4   0   4   4   4   4   \n",
      "14  4  4  0  4  4  4  0  4  4   4  ...   0   4   4   4   4   4   4   0   0   \n",
      "15  4  4  4  0  4  0  0  4  4   4  ...   4   4   4   4   0   4   4   4   4   \n",
      "16  4  4  0  0  0  0  0  0  4   0  ...   0   0   0   0   4   4   0   4   0   \n",
      "17  4  0  0  0  4  0  0  4  0   0  ...   4   4   4   4   0   0   0   0   4   \n",
      "18  4  4  0  0  4  0  0  4  0   0  ...   0   4   0   0   0   4   4   0   4   \n",
      "19  4  4  4  0  4  0  0  4  4   4  ...   0   0   4   0   0   4   4   4   0   \n",
      "20  4  4  4  0  0  0  0  4  0   4  ...   0   0   4   0   0   0   0   0   0   \n",
      "21  4  0  4  0  4  0  0  0  4   0  ...   0   0   0   4   0   4   0   0   4   \n",
      "22  4  0  4  0  0  0  0  0  0   0  ...   0   0   0   0   0   0   0   0   4   \n",
      "23  4  0  4  0  4  0  0  4  0   4  ...   4   0   4   0   0   0   4   0   0   \n",
      "24  4  0  4  0  0  0  4  0  4   0  ...   0   0   0   4   0   0   0   4   4   \n",
      "25  4  4  4  0  0  0  0  4  0   0  ...   0   0   4   0   4   4   4   0   0   \n",
      "26  4  0  0  0  0  4  0  0  4   4  ...   0   4   0   0   0   0   0   0   0   \n",
      "27  4  4  4  0  0  4  4  4  0   0  ...   0   0   0   0   4   0   4   4   0   \n",
      "28  4  0  0  0  4  0  0  0  4   4  ...   4   0   4   0   0   0   0   0   4   \n",
      "29  4  4  0  4  4  4  4  4  4   4  ...   4   4   4   4   0   4   4   4   4   \n",
      "30  4  0  4  0  4  0  0  4  4   0  ...   0   0   4   4   0   4   4   4   4   \n",
      "31  4  0  4  0  4  0  0  0  4   0  ...   0   0   0   0   4   0   4   0   0   \n",
      "32  4  0  4  0  4  0  0  0  4   0  ...   0   0   4   4   0   0   0   4   4   \n",
      "33  0  0  4  4  0  0  0  0  0   0  ...   0   0   0   4   4   0   4   0   4   \n",
      "34  4  0  4  4  0  4  0  4  0   0  ...   0   4   0   0   4   0   0   0   4   \n",
      "35  4  4  4  0  4  0  4  4  0   0  ...   4   4   4   4   4   4   4   4   4   \n",
      "36  4  4  0  4  0  4  0  0  0   0  ...   4   0   0   4   0   4   0   4   0   \n",
      "37  4  0  0  0  4  0  0  0  4   0  ...   0   0   4   4   4   0   0   4   4   \n",
      "\n",
      "    class  \n",
      "0      1반  \n",
      "1      1반  \n",
      "2      1반  \n",
      "3      1반  \n",
      "4      1반  \n",
      "5      1반  \n",
      "6      1반  \n",
      "7      1반  \n",
      "8      1반  \n",
      "9      1반  \n",
      "10     1반  \n",
      "11     1반  \n",
      "12     1반  \n",
      "13     1반  \n",
      "14     1반  \n",
      "15     1반  \n",
      "16     1반  \n",
      "17     1반  \n",
      "18     1반  \n",
      "19     1반  \n",
      "20     1반  \n",
      "21     1반  \n",
      "22     1반  \n",
      "23     1반  \n",
      "24     1반  \n",
      "25     1반  \n",
      "26     1반  \n",
      "27     1반  \n",
      "28     1반  \n",
      "29     1반  \n",
      "30     1반  \n",
      "31     1반  \n",
      "32     1반  \n",
      "33     1반  \n",
      "34     1반  \n",
      "35     1반  \n",
      "36     1반  \n",
      "37     1반  \n",
      "\n",
      "[38 rows x 26 columns]\n"
     ]
    }
   ],
   "source": [
    "scores_1['class'] = '1반'\n",
    "print(scores_1)"
   ]
  },
  {
   "attachments": {},
   "cell_type": "markdown",
   "metadata": {
    "tags": []
   },
   "source": [
    "### scores_2_1 와 scores_2_2 를 열기준(axis=1) 으로 합쳐 scores_2 변수에 저장하기 (concat)"
   ]
  },
  {
   "cell_type": "code",
   "execution_count": 83,
   "metadata": {
    "tags": []
   },
   "outputs": [],
   "source": [
    "scores_2 = pd.concat([scores_2_1, scores_2_2], axis=1, ignore_index=True)"
   ]
  },
  {
   "attachments": {},
   "cell_type": "markdown",
   "metadata": {},
   "source": [
    "### scores_2 의 열이름을 1, 2, 3, ... 로 변경하기 (range)"
   ]
  },
  {
   "cell_type": "code",
   "execution_count": 84,
   "metadata": {},
   "outputs": [],
   "source": [
    "scores_2.columns = range(1, len(scores_2.columns) + 1)"
   ]
  },
  {
   "attachments": {},
   "cell_type": "markdown",
   "metadata": {
    "tags": []
   },
   "source": [
    "### scores_2 에서 누락 데이터를 0 으로 채우기 (fillna)"
   ]
  },
  {
   "cell_type": "code",
   "execution_count": 85,
   "metadata": {
    "tags": []
   },
   "outputs": [
    {
     "name": "stdout",
     "output_type": "stream",
     "text": [
      "   1    2   3   4   5   6    7   8   9   10  ...  16  17  18  19  20  21  22   \n",
      "0   1  0.0   1   0   1   0  1.0   1   1   0  ...   0   1   0   1   1   1   0  \\\n",
      "1   1  1.0   1   0   1   0  1.0   1   1   1  ...   1   1   1   1   1   0   1   \n",
      "2   0  1.0   1   0   1   0  1.0   1   1   0  ...   1   0   1   0   0   1   0   \n",
      "3   1  0.0   0   1   1   1  1.0   0   0   0  ...   1   0   0   1   0   0   0   \n",
      "4   1  1.0   0   1   1   1  0.0   1   1   0  ...   0   0   0   0   0   1   0   \n",
      "\n",
      "   23  24  25  \n",
      "0   1   1   1  \n",
      "1   1   1   1  \n",
      "2   0   1   1  \n",
      "3   0   0   1  \n",
      "4   1   1   1  \n",
      "\n",
      "[5 rows x 25 columns]\n"
     ]
    }
   ],
   "source": [
    "scores_2.fillna(0, inplace=True)\n",
    "print(scores_2.head())"
   ]
  },
  {
   "attachments": {},
   "cell_type": "markdown",
   "metadata": {},
   "source": [
    "### scores_2 의 모든 데이터타입을 int32 으로 변경하기 (astype)"
   ]
  },
  {
   "cell_type": "code",
   "execution_count": 86,
   "metadata": {},
   "outputs": [],
   "source": [
    "scores_2 = scores_2.astype('int32')"
   ]
  },
  {
   "attachments": {},
   "cell_type": "markdown",
   "metadata": {},
   "source": [
    "### scores_2 의 모든 데이터에 4를 곱한 값으로 재지정하기 (브로드캐스팅)"
   ]
  },
  {
   "cell_type": "code",
   "execution_count": 87,
   "metadata": {
    "tags": []
   },
   "outputs": [
    {
     "name": "stdout",
     "output_type": "stream",
     "text": [
      "   1   2   3   4   5   6   7   8   9   10  ...  16  17  18  19  20  21  22   \n",
      "0   4   0   4   0   4   0   4   4   4   0  ...   0   4   0   4   4   4   0  \\\n",
      "1   4   4   4   0   4   0   4   4   4   4  ...   4   4   4   4   4   0   4   \n",
      "2   0   4   4   0   4   0   4   4   4   0  ...   4   0   4   0   0   4   0   \n",
      "3   4   0   0   4   4   4   4   0   0   0  ...   4   0   0   4   0   0   0   \n",
      "4   4   4   0   4   4   4   0   4   4   0  ...   0   0   0   0   0   4   0   \n",
      "\n",
      "   23  24  25  \n",
      "0   4   4   4  \n",
      "1   4   4   4  \n",
      "2   0   4   4  \n",
      "3   0   0   4  \n",
      "4   4   4   4  \n",
      "\n",
      "[5 rows x 25 columns]\n"
     ]
    }
   ],
   "source": [
    "scores_2 = scores_2 * 4\n",
    "print(scores_2.head())"
   ]
  },
  {
   "attachments": {},
   "cell_type": "markdown",
   "metadata": {},
   "source": [
    "### sores_2 에 새로운 class열 추가하기(class 데이터 값은 모두 '2반')"
   ]
  },
  {
   "cell_type": "code",
   "execution_count": 88,
   "metadata": {},
   "outputs": [],
   "source": [
    "scores_2['class'] = '2반'"
   ]
  },
  {
   "attachments": {},
   "cell_type": "markdown",
   "metadata": {},
   "source": [
    "### scores_1 과 scores_2 를 행기준(axis=0) 으로 합쳐 scores 변수에 저장하기 (concat)"
   ]
  },
  {
   "cell_type": "code",
   "execution_count": 90,
   "metadata": {},
   "outputs": [
    {
     "name": "stdout",
     "output_type": "stream",
     "text": [
      "    1  2  3  4  5  6  7  8  9  10  ...  17  18  19  20  21  22  23  24  25   \n",
      "0   0  0  0  0  4  0  0  4  0   0  ...   0   0   4   0   4   4   4   0   4  \\\n",
      "1   4  4  4  0  4  0  4  4  4   0  ...   0   0   4   4   0   4   4   0   4   \n",
      "2   0  0  4  4  4  4  0  4  0   0  ...   0   0   0   0   0   0   0   0   4   \n",
      "3   4  4  4  4  4  4  4  4  4   0  ...   4   4   4   4   0   4   4   4   4   \n",
      "4   4  4  4  0  4  0  0  4  4   0  ...   0   0   0   4   4   4   4   4   4   \n",
      ".. .. .. .. .. .. .. .. .. ..  ..  ...  ..  ..  ..  ..  ..  ..  ..  ..  ..   \n",
      "71  4  4  4  4  4  4  4  0  4   0  ...   0   0   4   0   4   0   4   0   4   \n",
      "72  4  4  0  0  4  0  4  4  4   0  ...   0   0   4   0   0   4   4   4   0   \n",
      "73  4  0  4  0  4  0  4  0  4   4  ...   0   0   0   4   0   0   0   0   4   \n",
      "74  0  0  0  0  0  0  0  0  0   0  ...   0   0   0   0   0   0   0   0   0   \n",
      "75  4  0  4  0  4  0  0  4  4   0  ...   4   0   4   0   0   4   4   0   4   \n",
      "\n",
      "    class  \n",
      "0      1반  \n",
      "1      1반  \n",
      "2      1반  \n",
      "3      1반  \n",
      "4      1반  \n",
      "..    ...  \n",
      "71     2반  \n",
      "72     2반  \n",
      "73     2반  \n",
      "74     2반  \n",
      "75     2반  \n",
      "\n",
      "[76 rows x 26 columns]\n"
     ]
    }
   ],
   "source": [
    "scores = pd.concat([scores_1, scores_2], axis=0, ignore_index=True)"
   ]
  },
  {
   "attachments": {},
   "cell_type": "markdown",
   "metadata": {},
   "source": [
    "### scores에 새로운 id열(values = 1, 2, 3, ...) 추가하기 "
   ]
  },
  {
   "cell_type": "code",
   "execution_count": 91,
   "metadata": {},
   "outputs": [
    {
     "name": "stdout",
     "output_type": "stream",
     "text": [
      "    1  2  3  4  5  6  7  8  9  10  ...  18  19  20  21  22  23  24  25  class   \n",
      "0   0  0  0  0  4  0  0  4  0   0  ...   0   4   0   4   4   4   0   4     1반  \\\n",
      "1   4  4  4  0  4  0  4  4  4   0  ...   0   4   4   0   4   4   0   4     1반   \n",
      "2   0  0  4  4  4  4  0  4  0   0  ...   0   0   0   0   0   0   0   4     1반   \n",
      "3   4  4  4  4  4  4  4  4  4   0  ...   4   4   4   0   4   4   4   4     1반   \n",
      "4   4  4  4  0  4  0  0  4  4   0  ...   0   0   4   4   4   4   4   4     1반   \n",
      ".. .. .. .. .. .. .. .. .. ..  ..  ...  ..  ..  ..  ..  ..  ..  ..  ..    ...   \n",
      "71  4  4  4  4  4  4  4  0  4   0  ...   0   4   0   4   0   4   0   4     2반   \n",
      "72  4  4  0  0  4  0  4  4  4   0  ...   0   4   0   0   4   4   4   0     2반   \n",
      "73  4  0  4  0  4  0  4  0  4   4  ...   0   0   4   0   0   0   0   4     2반   \n",
      "74  0  0  0  0  0  0  0  0  0   0  ...   0   0   0   0   0   0   0   0     2반   \n",
      "75  4  0  4  0  4  0  0  4  4   0  ...   0   4   0   0   4   4   0   4     2반   \n",
      "\n",
      "    id  \n",
      "0    1  \n",
      "1    2  \n",
      "2    3  \n",
      "3    4  \n",
      "4    5  \n",
      "..  ..  \n",
      "71  72  \n",
      "72  73  \n",
      "73  74  \n",
      "74  75  \n",
      "75  76  \n",
      "\n",
      "[76 rows x 27 columns]\n"
     ]
    }
   ],
   "source": [
    "scores['id'] = range(1, len(scores) + 1)\n",
    "print(scores)"
   ]
  },
  {
   "attachments": {},
   "cell_type": "markdown",
   "metadata": {},
   "source": [
    "### class 열의 데이터타입을 category 로 변경하기 (astype)"
   ]
  },
  {
   "cell_type": "code",
   "execution_count": 96,
   "metadata": {},
   "outputs": [
    {
     "name": "stdout",
     "output_type": "stream",
     "text": [
      "    1  2  3  4  5  6  7  8  9  10  ...  18  19  20  21  22  23  24  25  class   \n",
      "0   0  0  0  0  4  0  0  4  0   0  ...   0   4   0   4   4   4   0   4     1반  \\\n",
      "1   4  4  4  0  4  0  4  4  4   0  ...   0   4   4   0   4   4   0   4     1반   \n",
      "2   0  0  4  4  4  4  0  4  0   0  ...   0   0   0   0   0   0   0   4     1반   \n",
      "3   4  4  4  4  4  4  4  4  4   0  ...   4   4   4   0   4   4   4   4     1반   \n",
      "4   4  4  4  0  4  0  0  4  4   0  ...   0   0   4   4   4   4   4   4     1반   \n",
      ".. .. .. .. .. .. .. .. .. ..  ..  ...  ..  ..  ..  ..  ..  ..  ..  ..    ...   \n",
      "71  4  4  4  4  4  4  4  0  4   0  ...   0   4   0   4   0   4   0   4     2반   \n",
      "72  4  4  0  0  4  0  4  4  4   0  ...   0   4   0   0   4   4   4   0     2반   \n",
      "73  4  0  4  0  4  0  4  0  4   4  ...   0   0   4   0   0   0   0   4     2반   \n",
      "74  0  0  0  0  0  0  0  0  0   0  ...   0   0   0   0   0   0   0   0     2반   \n",
      "75  4  0  4  0  4  0  0  4  4   0  ...   0   4   0   0   4   4   0   4     2반   \n",
      "\n",
      "    id  \n",
      "0    1  \n",
      "1    2  \n",
      "2    3  \n",
      "3    4  \n",
      "4    5  \n",
      "..  ..  \n",
      "71  72  \n",
      "72  73  \n",
      "73  74  \n",
      "74  75  \n",
      "75  76  \n",
      "\n",
      "[76 rows x 27 columns]\n"
     ]
    }
   ],
   "source": [
    "scores['class'] = scores['class'].astype('category')\n",
    "# print(scores.dtypes)\n",
    "print(scores)"
   ]
  },
  {
   "attachments": {},
   "cell_type": "markdown",
   "metadata": {},
   "source": [
    "## 3.3 분석하기"
   ]
  },
  {
   "attachments": {},
   "cell_type": "markdown",
   "metadata": {
    "tags": []
   },
   "source": [
    "### class, id 열을 고정하고, 나머지 열을 피벗하여 scores_long 변수에 저장하기 (melt - var_name='question', value_name='score')"
   ]
  },
  {
   "cell_type": "code",
   "execution_count": 94,
   "metadata": {},
   "outputs": [
    {
     "name": "stdout",
     "output_type": "stream",
     "text": [
      "     class  id question  score\n",
      "0       1반   1        1      0\n",
      "1       1반   2        1      4\n",
      "2       1반   3        1      0\n",
      "3       1반   4        1      4\n",
      "4       1반   5        1      4\n",
      "...    ...  ..      ...    ...\n",
      "1895    2반  72       25      4\n",
      "1896    2반  73       25      0\n",
      "1897    2반  74       25      4\n",
      "1898    2반  75       25      0\n",
      "1899    2반  76       25      4\n",
      "\n",
      "[1900 rows x 4 columns]\n"
     ]
    }
   ],
   "source": [
    "scores_long = pd.melt(scores, id_vars=['class', 'id'],\n",
    "                      var_name='question', value_name='score')\n",
    "print(scores_long)"
   ]
  },
  {
   "attachments": {},
   "cell_type": "markdown",
   "metadata": {
    "tags": []
   },
   "source": [
    "### scores_long 에서 학생별 점수 구하기 (groupby, sum)"
   ]
  },
  {
   "cell_type": "code",
   "execution_count": 97,
   "metadata": {},
   "outputs": [
    {
     "name": "stdout",
     "output_type": "stream",
     "text": [
      "id\n",
      "1     40\n",
      "2     56\n",
      "3     40\n",
      "4     88\n",
      "5     60\n",
      "      ..\n",
      "72    72\n",
      "73    48\n",
      "74    52\n",
      "75     0\n",
      "76    52\n",
      "Name: score, Length: 76, dtype: int32\n"
     ]
    }
   ],
   "source": [
    "print(scores_long.groupby('id').score.sum())"
   ]
  },
  {
   "attachments": {},
   "cell_type": "markdown",
   "metadata": {},
   "source": [
    "### scores_long 에서 반/학생별 점수 구하여 class_scores 변수에 저장하기 (groupby, sum, reset_index)"
   ]
  },
  {
   "cell_type": "code",
   "execution_count": 98,
   "metadata": {},
   "outputs": [
    {
     "name": "stdout",
     "output_type": "stream",
     "text": [
      "    class  id  score\n",
      "0      1반   1     40\n",
      "1      1반   2     56\n",
      "2      1반   3     40\n",
      "3      1반   4     88\n",
      "4      1반   5     60\n",
      "..    ...  ..    ...\n",
      "147    2반  72     72\n",
      "148    2반  73     48\n",
      "149    2반  74     52\n",
      "150    2반  75      0\n",
      "151    2반  76     52\n",
      "\n",
      "[152 rows x 3 columns]\n"
     ]
    }
   ],
   "source": [
    "class_scores = scores_long.groupby(['class', 'id']).score.sum().reset_index()\n",
    "print(class_scores)"
   ]
  },
  {
   "attachments": {},
   "cell_type": "markdown",
   "metadata": {},
   "source": [
    "### class_scores에서 반별 평균 점수 구하기 (groupby, mean)"
   ]
  },
  {
   "cell_type": "code",
   "execution_count": 99,
   "metadata": {},
   "outputs": [
    {
     "name": "stdout",
     "output_type": "stream",
     "text": [
      "class\n",
      "1반    25.789474\n",
      "2반    23.526316\n",
      "Name: score, dtype: float64\n"
     ]
    }
   ],
   "source": [
    "print(class_scores.groupby('class').score.mean())"
   ]
  },
  {
   "attachments": {},
   "cell_type": "markdown",
   "metadata": {},
   "source": [
    "### class_scores에서 반별 기술통계 항목 구하기 (groupby, describe)"
   ]
  },
  {
   "cell_type": "code",
   "execution_count": 100,
   "metadata": {},
   "outputs": [
    {
     "name": "stdout",
     "output_type": "stream",
     "text": [
      "       count       mean        std  min  25%   50%   75%   max\n",
      "class                                                         \n",
      "1반      76.0  25.789474  28.430179  0.0  0.0  10.0  48.0  88.0\n",
      "2반      76.0  23.526316  27.542681  0.0  0.0   0.0  48.0  88.0\n"
     ]
    }
   ],
   "source": [
    "print(class_scores.groupby('class').score.describe())"
   ]
  },
  {
   "attachments": {},
   "cell_type": "markdown",
   "metadata": {
    "jp-MarkdownHeadingCollapsed": true,
    "tags": []
   },
   "source": [
    "# 4. Regular Expression\n",
    "***"
   ]
  },
  {
   "attachments": {},
   "cell_type": "markdown",
   "metadata": {},
   "source": [
    "## 4.1 문자열에서 찾기"
   ]
  },
  {
   "cell_type": "code",
   "execution_count": 101,
   "metadata": {},
   "outputs": [],
   "source": [
    "import pandas as pd\n",
    "import re\n",
    "\n",
    "sample = \"\"\"\n",
    "750101-1123146 01012345677\n",
    "900201-2123121 010-2234-7799\n",
    "950722-2027193 010-2987-7222\n",
    "000321-3123142 011_1234_9087\n",
    "001105-4333127 010 4422 1485\n",
    "0009213876575  01045845987\n",
    "\"\"\""
   ]
  },
  {
   "attachments": {},
   "cell_type": "markdown",
   "metadata": {},
   "source": [
    "### 전화번호 추출하기"
   ]
  },
  {
   "cell_type": "code",
   "execution_count": 102,
   "metadata": {},
   "outputs": [
    {
     "name": "stdout",
     "output_type": "stream",
     "text": [
      "['01012345677', '010-2234-7799', '010-2987-7222', '011_1234_9087', '010 4422 1485', '01045845987']\n"
     ]
    }
   ],
   "source": [
    "p = re.compile('\\d{3}[-_\\s]?\\d{4}[-_\\s]?\\d{4}$', re.MULTILINE)\n",
    "print(p.findall(sample))"
   ]
  },
  {
   "attachments": {},
   "cell_type": "markdown",
   "metadata": {
    "tags": []
   },
   "source": [
    "### 주민등록번호 추출하기"
   ]
  },
  {
   "cell_type": "code",
   "execution_count": 103,
   "metadata": {},
   "outputs": [
    {
     "name": "stdout",
     "output_type": "stream",
     "text": [
      "['750101-1123146', '900201-2123121', '950722-2027193', '000321-3123142', '001105-4333127', '0009213876575']\n"
     ]
    }
   ],
   "source": [
    "p = re.compile('^\\d{6}-?\\d{7}', re.MULTILINE)\n",
    "print(p.findall(sample))"
   ]
  },
  {
   "attachments": {},
   "cell_type": "markdown",
   "metadata": {},
   "source": [
    "### 여성 주민등록번호 추출하기"
   ]
  },
  {
   "cell_type": "code",
   "execution_count": 104,
   "metadata": {},
   "outputs": [
    {
     "name": "stdout",
     "output_type": "stream",
     "text": [
      "['900201-2123121', '950722-2027193', '001105-4333127']\n"
     ]
    }
   ],
   "source": [
    "p = re.compile('^\\d{6}-?[24]\\d{6}', re.MULTILINE)\n",
    "print(p.findall(sample))"
   ]
  },
  {
   "attachments": {},
   "cell_type": "markdown",
   "metadata": {},
   "source": [
    "## 4.2 데이터프레임에서 찾기"
   ]
  },
  {
   "cell_type": "code",
   "execution_count": 106,
   "metadata": {},
   "outputs": [
    {
     "name": "stdout",
     "output_type": "stream",
     "text": [
      "                   Name        Born        Died  Age          Occupation\n",
      "0     Rosaline Franklin  1920-07-25  1958-04-16   37             Chemist\n",
      "1        William Gosset  1876-06-13  1937-10-16   61        Statistician\n",
      "2  Florence Nightingale  1820-05-12  1910-08-13   90               Nurse\n",
      "3           Marie Curie  1867-11-07  1934-07-04   66             Chemist\n",
      "4         Rachel Carson  1907-05-27  1964-04-14   56           Biologist\n",
      "5             John Snow  1813-03-15  1858-06-16   45           Physician\n",
      "6           Alan Turing  1912-06-23  1954-06-07   41  Computer Scientist\n",
      "7          Johann Gauss  1777-04-30  1855-02-23   77       Mathematician\n"
     ]
    }
   ],
   "source": [
    "scientists = pd.read_csv(r'C:\\Users\\gomwo\\Desktop\\git\\python_practice\\BD\\scientists.csv')\n",
    "print(scientists)"
   ]
  },
  {
   "attachments": {},
   "cell_type": "markdown",
   "metadata": {},
   "source": [
    "### 5월에 태어난 과학자 추출"
   ]
  },
  {
   "cell_type": "code",
   "execution_count": 107,
   "metadata": {},
   "outputs": [
    {
     "name": "stdout",
     "output_type": "stream",
     "text": [
      "                   Name        Born        Died  Age Occupation\n",
      "2  Florence Nightingale  1820-05-12  1910-08-13   90      Nurse\n",
      "4         Rachel Carson  1907-05-27  1964-04-14   56  Biologist\n"
     ]
    }
   ],
   "source": [
    "print(scientists[scientists.Born.str.match('\\d{4}-05-\\d{2}')])"
   ]
  },
  {
   "attachments": {},
   "cell_type": "markdown",
   "metadata": {},
   "source": [
    "### 성(last name)이 C로 시작하는 과학자 추출"
   ]
  },
  {
   "cell_type": "code",
   "execution_count": 109,
   "metadata": {},
   "outputs": [
    {
     "name": "stdout",
     "output_type": "stream",
     "text": [
      "            Name        Born        Died  Age Occupation\n",
      "3    Marie Curie  1867-11-07  1934-07-04   66    Chemist\n",
      "4  Rachel Carson  1907-05-27  1964-04-14   56  Biologist\n"
     ]
    }
   ],
   "source": [
    "print(scientists[scientists.Name.str.match('\\w+\\s[cC]\\w+')])"
   ]
  }
 ],
 "metadata": {
  "kernelspec": {
   "display_name": "Python 3",
   "language": "python",
   "name": "python3"
  },
  "language_info": {
   "codemirror_mode": {
    "name": "ipython",
    "version": 3
   },
   "file_extension": ".py",
   "mimetype": "text/x-python",
   "name": "python",
   "nbconvert_exporter": "python",
   "pygments_lexer": "ipython3",
   "version": "3.11.3"
  }
 },
 "nbformat": 4,
 "nbformat_minor": 4
}
